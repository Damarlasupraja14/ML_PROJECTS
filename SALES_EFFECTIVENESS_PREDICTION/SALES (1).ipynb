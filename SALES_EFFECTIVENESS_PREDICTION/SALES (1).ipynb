{
 "cells": [
  {
   "cell_type": "markdown",
   "id": "522f59a6",
   "metadata": {},
   "source": [
    "# SALES EFFECTIVENESS"
   ]
  },
  {
   "cell_type": "markdown",
   "id": "21e8ef0d",
   "metadata": {},
   "source": [
    "*  GOAL OF THE PROJECT:\n",
    "\n",
    "                 *   1. Data exploration insights – Sales effectiveness.\n",
    "                 *   2. ML model to predict the Lead Category (High Potential , Low Potential)\n"
   ]
  },
  {
   "cell_type": "code",
   "execution_count": 1,
   "id": "a8342140",
   "metadata": {},
   "outputs": [],
   "source": [
    "import pandas as pd\n",
    "import matplotlib.pyplot as plt\n",
    "import seaborn as sns\n",
    "from imblearn.over_sampling import SMOTE\n",
    "from sklearn.model_selection import GridSearchCV\n",
    "from sklearn.model_selection import train_test_split\n",
    "from sklearn.preprocessing import StandardScaler\n",
    "from sklearn.preprocessing import LabelEncoder\n",
    "from sklearn.linear_model import LogisticRegression\n",
    "from xgboost import XGBClassifier\n",
    "from sklearn.ensemble import RandomForestClassifier\n",
    "from sklearn.metrics import  accuracy_score,classification_report,precision_score, recall_score, f1_score"
   ]
  },
  {
   "cell_type": "markdown",
   "id": "21940f9c",
   "metadata": {},
   "source": [
    "# LOAD THE DATA"
   ]
  },
  {
   "cell_type": "code",
   "execution_count": 2,
   "id": "a486e0d8",
   "metadata": {},
   "outputs": [
    {
     "data": {
      "text/html": [
       "<div>\n",
       "<style scoped>\n",
       "    .dataframe tbody tr th:only-of-type {\n",
       "        vertical-align: middle;\n",
       "    }\n",
       "\n",
       "    .dataframe tbody tr th {\n",
       "        vertical-align: top;\n",
       "    }\n",
       "\n",
       "    .dataframe thead th {\n",
       "        text-align: right;\n",
       "    }\n",
       "</style>\n",
       "<table border=\"1\" class=\"dataframe\">\n",
       "  <thead>\n",
       "    <tr style=\"text-align: right;\">\n",
       "      <th></th>\n",
       "      <th>Created</th>\n",
       "      <th>Product_ID</th>\n",
       "      <th>Source</th>\n",
       "      <th>Mobile</th>\n",
       "      <th>EMAIL</th>\n",
       "      <th>Sales_Agent</th>\n",
       "      <th>Location</th>\n",
       "      <th>Delivery_Mode</th>\n",
       "      <th>Status</th>\n",
       "    </tr>\n",
       "  </thead>\n",
       "  <tbody>\n",
       "    <tr>\n",
       "      <th>0</th>\n",
       "      <td>01-01-2023 00:00</td>\n",
       "      <td>1051</td>\n",
       "      <td>Referral</td>\n",
       "      <td>+1-723-296-8724x626</td>\n",
       "      <td>gfrancis@gmail.com</td>\n",
       "      <td>Agent E</td>\n",
       "      <td>Houston</td>\n",
       "      <td>Online</td>\n",
       "      <td>Low Potential</td>\n",
       "    </tr>\n",
       "    <tr>\n",
       "      <th>1</th>\n",
       "      <td>01-01-2023 01:00</td>\n",
       "      <td>1092</td>\n",
       "      <td>Cold Call</td>\n",
       "      <td>NaN</td>\n",
       "      <td>gomeztimothy@gmail.com</td>\n",
       "      <td>Agent D</td>\n",
       "      <td>Los Angeles</td>\n",
       "      <td>Online</td>\n",
       "      <td>High Potential</td>\n",
       "    </tr>\n",
       "    <tr>\n",
       "      <th>2</th>\n",
       "      <td>01-01-2023 02:00</td>\n",
       "      <td>1014</td>\n",
       "      <td>Social Media</td>\n",
       "      <td>337-557-9757</td>\n",
       "      <td>stephanieorr@hotmail.com</td>\n",
       "      <td>Agent B</td>\n",
       "      <td>Houston</td>\n",
       "      <td>Online</td>\n",
       "      <td>Low Potential</td>\n",
       "    </tr>\n",
       "    <tr>\n",
       "      <th>3</th>\n",
       "      <td>01-01-2023 03:00</td>\n",
       "      <td>1071</td>\n",
       "      <td>Referral</td>\n",
       "      <td>-10826</td>\n",
       "      <td>ernestbyrd@yahoo.com</td>\n",
       "      <td>Agent D</td>\n",
       "      <td>San Francisco</td>\n",
       "      <td>Online</td>\n",
       "      <td>Low Potential</td>\n",
       "    </tr>\n",
       "    <tr>\n",
       "      <th>4</th>\n",
       "      <td>01-01-2023 04:00</td>\n",
       "      <td>1060</td>\n",
       "      <td>Referral</td>\n",
       "      <td>NaN</td>\n",
       "      <td>shannon01@gmail.com</td>\n",
       "      <td>Agent E</td>\n",
       "      <td>San Francisco</td>\n",
       "      <td>Offline</td>\n",
       "      <td>Low Potential</td>\n",
       "    </tr>\n",
       "    <tr>\n",
       "      <th>...</th>\n",
       "      <td>...</td>\n",
       "      <td>...</td>\n",
       "      <td>...</td>\n",
       "      <td>...</td>\n",
       "      <td>...</td>\n",
       "      <td>...</td>\n",
       "      <td>...</td>\n",
       "      <td>...</td>\n",
       "      <td>...</td>\n",
       "    </tr>\n",
       "    <tr>\n",
       "      <th>7417</th>\n",
       "      <td>06-11-2023 01:00</td>\n",
       "      <td>1017</td>\n",
       "      <td>Social Media</td>\n",
       "      <td>NaN</td>\n",
       "      <td>djenkins@hotmail.com</td>\n",
       "      <td>Agent E</td>\n",
       "      <td>Chicago</td>\n",
       "      <td>Online</td>\n",
       "      <td>High Potential</td>\n",
       "    </tr>\n",
       "    <tr>\n",
       "      <th>7418</th>\n",
       "      <td>06-11-2023 02:00</td>\n",
       "      <td>1022</td>\n",
       "      <td>Cold Call</td>\n",
       "      <td>NaN</td>\n",
       "      <td>brownjohn@wong-cooper.info</td>\n",
       "      <td>Agent B</td>\n",
       "      <td>Houston</td>\n",
       "      <td>Offline</td>\n",
       "      <td>High Potential</td>\n",
       "    </tr>\n",
       "    <tr>\n",
       "      <th>7419</th>\n",
       "      <td>06-11-2023 03:00</td>\n",
       "      <td>1053</td>\n",
       "      <td>Cold Call</td>\n",
       "      <td>NaN</td>\n",
       "      <td>gblack@johnson.biz</td>\n",
       "      <td>Agent B</td>\n",
       "      <td>Los Angeles</td>\n",
       "      <td>Offline</td>\n",
       "      <td>Low Potential</td>\n",
       "    </tr>\n",
       "    <tr>\n",
       "      <th>7420</th>\n",
       "      <td>06-11-2023 04:00</td>\n",
       "      <td>1029</td>\n",
       "      <td>Website</td>\n",
       "      <td>873-332-3351x57062</td>\n",
       "      <td>hoffmanmichael@yahoo.com</td>\n",
       "      <td>Agent D</td>\n",
       "      <td>New York</td>\n",
       "      <td>Offline</td>\n",
       "      <td>Low Potential</td>\n",
       "    </tr>\n",
       "    <tr>\n",
       "      <th>7421</th>\n",
       "      <td>06-11-2023 05:00</td>\n",
       "      <td>1097</td>\n",
       "      <td>Website</td>\n",
       "      <td>NaN</td>\n",
       "      <td>lopezkayla@white-rasmussen.com</td>\n",
       "      <td>Agent B</td>\n",
       "      <td>Chicago</td>\n",
       "      <td>Offline</td>\n",
       "      <td>Low Potential</td>\n",
       "    </tr>\n",
       "  </tbody>\n",
       "</table>\n",
       "<p>7422 rows × 9 columns</p>\n",
       "</div>"
      ],
      "text/plain": [
       "               Created  Product_ID        Source               Mobile  \\\n",
       "0     01-01-2023 00:00        1051      Referral  +1-723-296-8724x626   \n",
       "1     01-01-2023 01:00        1092     Cold Call                  NaN   \n",
       "2     01-01-2023 02:00        1014  Social Media         337-557-9757   \n",
       "3     01-01-2023 03:00        1071      Referral               -10826   \n",
       "4     01-01-2023 04:00        1060      Referral                  NaN   \n",
       "...                ...         ...           ...                  ...   \n",
       "7417  06-11-2023 01:00        1017  Social Media                  NaN   \n",
       "7418  06-11-2023 02:00        1022     Cold Call                  NaN   \n",
       "7419  06-11-2023 03:00        1053     Cold Call                  NaN   \n",
       "7420  06-11-2023 04:00        1029       Website   873-332-3351x57062   \n",
       "7421  06-11-2023 05:00        1097       Website                  NaN   \n",
       "\n",
       "                               EMAIL Sales_Agent       Location Delivery_Mode  \\\n",
       "0                 gfrancis@gmail.com     Agent E        Houston        Online   \n",
       "1             gomeztimothy@gmail.com     Agent D    Los Angeles        Online   \n",
       "2           stephanieorr@hotmail.com     Agent B        Houston        Online   \n",
       "3               ernestbyrd@yahoo.com     Agent D  San Francisco        Online   \n",
       "4                shannon01@gmail.com     Agent E  San Francisco       Offline   \n",
       "...                              ...         ...            ...           ...   \n",
       "7417            djenkins@hotmail.com     Agent E        Chicago        Online   \n",
       "7418      brownjohn@wong-cooper.info     Agent B        Houston       Offline   \n",
       "7419              gblack@johnson.biz     Agent B    Los Angeles       Offline   \n",
       "7420        hoffmanmichael@yahoo.com     Agent D       New York       Offline   \n",
       "7421  lopezkayla@white-rasmussen.com     Agent B        Chicago       Offline   \n",
       "\n",
       "              Status  \n",
       "0      Low Potential  \n",
       "1     High Potential  \n",
       "2      Low Potential  \n",
       "3      Low Potential  \n",
       "4      Low Potential  \n",
       "...              ...  \n",
       "7417  High Potential  \n",
       "7418  High Potential  \n",
       "7419   Low Potential  \n",
       "7420   Low Potential  \n",
       "7421   Low Potential  \n",
       "\n",
       "[7422 rows x 9 columns]"
      ]
     },
     "execution_count": 2,
     "metadata": {},
     "output_type": "execute_result"
    }
   ],
   "source": [
    "df=pd.read_csv(\"C:\\\\Users\\\\user\\\\Downloads\\\\sales_leads_dataset.csv\")\n",
    "df"
   ]
  },
  {
   "cell_type": "markdown",
   "id": "65ba6971",
   "metadata": {},
   "source": [
    "# BASIC CHECKS"
   ]
  },
  {
   "cell_type": "code",
   "execution_count": 3,
   "id": "b82d1ac9",
   "metadata": {},
   "outputs": [
    {
     "data": {
      "text/html": [
       "<div>\n",
       "<style scoped>\n",
       "    .dataframe tbody tr th:only-of-type {\n",
       "        vertical-align: middle;\n",
       "    }\n",
       "\n",
       "    .dataframe tbody tr th {\n",
       "        vertical-align: top;\n",
       "    }\n",
       "\n",
       "    .dataframe thead th {\n",
       "        text-align: right;\n",
       "    }\n",
       "</style>\n",
       "<table border=\"1\" class=\"dataframe\">\n",
       "  <thead>\n",
       "    <tr style=\"text-align: right;\">\n",
       "      <th></th>\n",
       "      <th>Created</th>\n",
       "      <th>Product_ID</th>\n",
       "      <th>Source</th>\n",
       "      <th>Mobile</th>\n",
       "      <th>EMAIL</th>\n",
       "      <th>Sales_Agent</th>\n",
       "      <th>Location</th>\n",
       "      <th>Delivery_Mode</th>\n",
       "      <th>Status</th>\n",
       "    </tr>\n",
       "  </thead>\n",
       "  <tbody>\n",
       "    <tr>\n",
       "      <th>0</th>\n",
       "      <td>01-01-2023 00:00</td>\n",
       "      <td>1051</td>\n",
       "      <td>Referral</td>\n",
       "      <td>+1-723-296-8724x626</td>\n",
       "      <td>gfrancis@gmail.com</td>\n",
       "      <td>Agent E</td>\n",
       "      <td>Houston</td>\n",
       "      <td>Online</td>\n",
       "      <td>Low Potential</td>\n",
       "    </tr>\n",
       "    <tr>\n",
       "      <th>1</th>\n",
       "      <td>01-01-2023 01:00</td>\n",
       "      <td>1092</td>\n",
       "      <td>Cold Call</td>\n",
       "      <td>NaN</td>\n",
       "      <td>gomeztimothy@gmail.com</td>\n",
       "      <td>Agent D</td>\n",
       "      <td>Los Angeles</td>\n",
       "      <td>Online</td>\n",
       "      <td>High Potential</td>\n",
       "    </tr>\n",
       "    <tr>\n",
       "      <th>2</th>\n",
       "      <td>01-01-2023 02:00</td>\n",
       "      <td>1014</td>\n",
       "      <td>Social Media</td>\n",
       "      <td>337-557-9757</td>\n",
       "      <td>stephanieorr@hotmail.com</td>\n",
       "      <td>Agent B</td>\n",
       "      <td>Houston</td>\n",
       "      <td>Online</td>\n",
       "      <td>Low Potential</td>\n",
       "    </tr>\n",
       "    <tr>\n",
       "      <th>3</th>\n",
       "      <td>01-01-2023 03:00</td>\n",
       "      <td>1071</td>\n",
       "      <td>Referral</td>\n",
       "      <td>-10826</td>\n",
       "      <td>ernestbyrd@yahoo.com</td>\n",
       "      <td>Agent D</td>\n",
       "      <td>San Francisco</td>\n",
       "      <td>Online</td>\n",
       "      <td>Low Potential</td>\n",
       "    </tr>\n",
       "    <tr>\n",
       "      <th>4</th>\n",
       "      <td>01-01-2023 04:00</td>\n",
       "      <td>1060</td>\n",
       "      <td>Referral</td>\n",
       "      <td>NaN</td>\n",
       "      <td>shannon01@gmail.com</td>\n",
       "      <td>Agent E</td>\n",
       "      <td>San Francisco</td>\n",
       "      <td>Offline</td>\n",
       "      <td>Low Potential</td>\n",
       "    </tr>\n",
       "  </tbody>\n",
       "</table>\n",
       "</div>"
      ],
      "text/plain": [
       "            Created  Product_ID        Source               Mobile  \\\n",
       "0  01-01-2023 00:00        1051      Referral  +1-723-296-8724x626   \n",
       "1  01-01-2023 01:00        1092     Cold Call                  NaN   \n",
       "2  01-01-2023 02:00        1014  Social Media         337-557-9757   \n",
       "3  01-01-2023 03:00        1071      Referral               -10826   \n",
       "4  01-01-2023 04:00        1060      Referral                  NaN   \n",
       "\n",
       "                      EMAIL Sales_Agent       Location Delivery_Mode  \\\n",
       "0        gfrancis@gmail.com     Agent E        Houston        Online   \n",
       "1    gomeztimothy@gmail.com     Agent D    Los Angeles        Online   \n",
       "2  stephanieorr@hotmail.com     Agent B        Houston        Online   \n",
       "3      ernestbyrd@yahoo.com     Agent D  San Francisco        Online   \n",
       "4       shannon01@gmail.com     Agent E  San Francisco       Offline   \n",
       "\n",
       "           Status  \n",
       "0   Low Potential  \n",
       "1  High Potential  \n",
       "2   Low Potential  \n",
       "3   Low Potential  \n",
       "4   Low Potential  "
      ]
     },
     "execution_count": 3,
     "metadata": {},
     "output_type": "execute_result"
    }
   ],
   "source": [
    "df.head()"
   ]
  },
  {
   "cell_type": "code",
   "execution_count": 4,
   "id": "51f4bf4c",
   "metadata": {},
   "outputs": [
    {
     "data": {
      "text/plain": [
       "(7422, 9)"
      ]
     },
     "execution_count": 4,
     "metadata": {},
     "output_type": "execute_result"
    }
   ],
   "source": [
    "df.shape"
   ]
  },
  {
   "cell_type": "code",
   "execution_count": 5,
   "id": "380d351e",
   "metadata": {},
   "outputs": [
    {
     "data": {
      "text/plain": [
       "Index(['Created', 'Product_ID', 'Source', 'Mobile', 'EMAIL', 'Sales_Agent',\n",
       "       'Location', 'Delivery_Mode', 'Status'],\n",
       "      dtype='object')"
      ]
     },
     "execution_count": 5,
     "metadata": {},
     "output_type": "execute_result"
    }
   ],
   "source": [
    "df.columns"
   ]
  },
  {
   "cell_type": "code",
   "execution_count": 6,
   "id": "80fc7a57",
   "metadata": {},
   "outputs": [
    {
     "name": "stdout",
     "output_type": "stream",
     "text": [
      "<class 'pandas.core.frame.DataFrame'>\n",
      "RangeIndex: 7422 entries, 0 to 7421\n",
      "Data columns (total 9 columns):\n",
      " #   Column         Non-Null Count  Dtype \n",
      "---  ------         --------------  ----- \n",
      " 0   Created        7422 non-null   object\n",
      " 1   Product_ID     7422 non-null   int64 \n",
      " 2   Source         7422 non-null   object\n",
      " 3   Mobile         5221 non-null   object\n",
      " 4   EMAIL          7422 non-null   object\n",
      " 5   Sales_Agent    7422 non-null   object\n",
      " 6   Location       7422 non-null   object\n",
      " 7   Delivery_Mode  7422 non-null   object\n",
      " 8   Status         7422 non-null   object\n",
      "dtypes: int64(1), object(8)\n",
      "memory usage: 522.0+ KB\n"
     ]
    }
   ],
   "source": [
    "df.info()"
   ]
  },
  {
   "cell_type": "code",
   "execution_count": 7,
   "id": "3d9446a3",
   "metadata": {},
   "outputs": [
    {
     "data": {
      "text/html": [
       "<div>\n",
       "<style scoped>\n",
       "    .dataframe tbody tr th:only-of-type {\n",
       "        vertical-align: middle;\n",
       "    }\n",
       "\n",
       "    .dataframe tbody tr th {\n",
       "        vertical-align: top;\n",
       "    }\n",
       "\n",
       "    .dataframe thead th {\n",
       "        text-align: right;\n",
       "    }\n",
       "</style>\n",
       "<table border=\"1\" class=\"dataframe\">\n",
       "  <thead>\n",
       "    <tr style=\"text-align: right;\">\n",
       "      <th></th>\n",
       "      <th>Product_ID</th>\n",
       "    </tr>\n",
       "  </thead>\n",
       "  <tbody>\n",
       "    <tr>\n",
       "      <th>count</th>\n",
       "      <td>7422.000000</td>\n",
       "    </tr>\n",
       "    <tr>\n",
       "      <th>mean</th>\n",
       "      <td>1049.197656</td>\n",
       "    </tr>\n",
       "    <tr>\n",
       "      <th>std</th>\n",
       "      <td>28.869251</td>\n",
       "    </tr>\n",
       "    <tr>\n",
       "      <th>min</th>\n",
       "      <td>1000.000000</td>\n",
       "    </tr>\n",
       "    <tr>\n",
       "      <th>25%</th>\n",
       "      <td>1024.000000</td>\n",
       "    </tr>\n",
       "    <tr>\n",
       "      <th>50%</th>\n",
       "      <td>1049.000000</td>\n",
       "    </tr>\n",
       "    <tr>\n",
       "      <th>75%</th>\n",
       "      <td>1074.000000</td>\n",
       "    </tr>\n",
       "    <tr>\n",
       "      <th>max</th>\n",
       "      <td>1099.000000</td>\n",
       "    </tr>\n",
       "  </tbody>\n",
       "</table>\n",
       "</div>"
      ],
      "text/plain": [
       "        Product_ID\n",
       "count  7422.000000\n",
       "mean   1049.197656\n",
       "std      28.869251\n",
       "min    1000.000000\n",
       "25%    1024.000000\n",
       "50%    1049.000000\n",
       "75%    1074.000000\n",
       "max    1099.000000"
      ]
     },
     "execution_count": 7,
     "metadata": {},
     "output_type": "execute_result"
    }
   ],
   "source": [
    "df.describe()"
   ]
  },
  {
   "cell_type": "code",
   "execution_count": 8,
   "id": "d3f066c4",
   "metadata": {},
   "outputs": [
    {
     "name": "stdout",
     "output_type": "stream",
     "text": [
      "                 Created    Source Mobile                EMAIL Sales_Agent  \\\n",
      "count               7422      7422   5221                 7422        7422   \n",
      "unique              7422         5   5220                 7392           5   \n",
      "top     01-01-2023 00:00  Referral  -8777  anthony23@gmail.com     Agent E   \n",
      "freq                   1      1534      2                    3        1617   \n",
      "\n",
      "             Location Delivery_Mode         Status  \n",
      "count            7422          7422           7422  \n",
      "unique              5             2              2  \n",
      "top     San Francisco       Offline  Low Potential  \n",
      "freq             1524          3836           4404  \n"
     ]
    }
   ],
   "source": [
    "# Get categorical summary\n",
    "print(df.describe(include=['object']))"
   ]
  },
  {
   "cell_type": "markdown",
   "id": "6a66edad",
   "metadata": {},
   "source": [
    "# CHECKING MISSING VALUES"
   ]
  },
  {
   "cell_type": "code",
   "execution_count": 9,
   "id": "18e25ec3",
   "metadata": {},
   "outputs": [
    {
     "data": {
      "text/plain": [
       "Created             0\n",
       "Product_ID          0\n",
       "Source              0\n",
       "Mobile           2201\n",
       "EMAIL               0\n",
       "Sales_Agent         0\n",
       "Location            0\n",
       "Delivery_Mode       0\n",
       "Status              0\n",
       "dtype: int64"
      ]
     },
     "execution_count": 9,
     "metadata": {},
     "output_type": "execute_result"
    }
   ],
   "source": [
    "df.isnull().sum()"
   ]
  },
  {
   "cell_type": "code",
   "execution_count": 10,
   "id": "96eabf3b",
   "metadata": {},
   "outputs": [
    {
     "data": {
      "text/plain": [
       "Created          7422\n",
       "Product_ID        100\n",
       "Source              5\n",
       "Mobile           5220\n",
       "EMAIL            7392\n",
       "Sales_Agent         5\n",
       "Location            5\n",
       "Delivery_Mode       2\n",
       "Status              2\n",
       "dtype: int64"
      ]
     },
     "execution_count": 10,
     "metadata": {},
     "output_type": "execute_result"
    }
   ],
   "source": [
    "# Categories in each column\n",
    "df.nunique()"
   ]
  },
  {
   "cell_type": "markdown",
   "id": "de8e1fd9",
   "metadata": {},
   "source": [
    "# Exploratory Data Analysis  (EDA)"
   ]
  },
  {
   "cell_type": "code",
   "execution_count": 11,
   "id": "938ef340",
   "metadata": {},
   "outputs": [
    {
     "data": {
      "text/plain": [
       "Status\n",
       "Low Potential     4404\n",
       "High Potential    3018\n",
       "Name: count, dtype: int64"
      ]
     },
     "execution_count": 11,
     "metadata": {},
     "output_type": "execute_result"
    }
   ],
   "source": [
    "df.Status.value_counts()"
   ]
  },
  {
   "cell_type": "markdown",
   "id": "d4ab5fce",
   "metadata": {},
   "source": [
    "# Target Variable Distribution"
   ]
  },
  {
   "cell_type": "code",
   "execution_count": 12,
   "id": "9111bbe3",
   "metadata": {
    "scrolled": false
   },
   "outputs": [
    {
     "data": {
      "image/png": "[encoded data removed]",
      "text/plain": [
       "<Figure size 1000x700 with 1 Axes>"
      ]
     },
     "metadata": {},
     "output_type": "display_data"
    }
   ],
   "source": [
    "plt.figure(figsize=(10,7))\n",
    "sns.countplot(df,x=\"Status\",hue=\"Status\")\n",
    "plt.show()"
   ]
  },
  {
   "cell_type": "markdown",
   "id": "e52f363c",
   "metadata": {},
   "source": [
    "We have observed that , Low potential are more than high potential"
   ]
  },
  {
   "cell_type": "markdown",
   "id": "b629e633",
   "metadata": {},
   "source": [
    "# Visualizing missing values"
   ]
  },
  {
   "cell_type": "code",
   "execution_count": 13,
   "id": "ff65e736",
   "metadata": {
    "scrolled": true
   },
   "outputs": [
    {
     "data": {
      "image/png": "[encoded data removed]",
      "text/plain": [
       "<Figure size 1000x500 with 1 Axes>"
      ]
     },
     "metadata": {},
     "output_type": "display_data"
    }
   ],
   "source": [
    "# Visualizing missing values\n",
    "plt.figure(figsize=(10, 5))\n",
    "sns.heatmap(df.isnull(), cmap='viridis', cbar=False, yticklabels=False)\n",
    "plt.title(\"Missing Values Heatmap\")\n",
    "plt.show()\n"
   ]
  },
  {
   "cell_type": "markdown",
   "id": "8a7845aa",
   "metadata": {},
   "source": [
    "We observed that Mobile number column has missing values , actually we dont need that column for the sales , So I will remove it."
   ]
  },
  {
   "cell_type": "markdown",
   "id": "3d67a544",
   "metadata": {},
   "source": [
    "# Identifying top-performer source"
   ]
  },
  {
   "cell_type": "code",
   "execution_count": 14,
   "id": "c274f515",
   "metadata": {
    "scrolled": false
   },
   "outputs": [
    {
     "data": {
      "image/png": "[encoded data removed]",
      "text/plain": [
       "<Figure size 1000x500 with 1 Axes>"
      ]
     },
     "metadata": {},
     "output_type": "display_data"
    }
   ],
   "source": [
    "plt.figure(figsize=(10, 5))\n",
    "sns.countplot(y=df['Source'], order=df['Source'].value_counts().index, palette=\"viridis\")\n",
    "plt.title(\"Lead Source Distribution\")\n",
    "plt.xlabel(\"Count\")\n",
    "plt.ylabel(\"Lead Source\")\n",
    "plt.show()"
   ]
  },
  {
   "cell_type": "markdown",
   "id": "d4574079",
   "metadata": {},
   "source": [
    "The top-performing source is Referral\n",
    "and least peforming source is Social media"
   ]
  },
  {
   "cell_type": "markdown",
   "id": "6bfa77d8",
   "metadata": {},
   "source": [
    "# Finding which Agent handling most leads"
   ]
  },
  {
   "cell_type": "code",
   "execution_count": 15,
   "id": "d27794bc",
   "metadata": {},
   "outputs": [
    {
     "data": {
      "image/png": "[encoded data removed]",
      "text/plain": [
       "<Figure size 1000x500 with 1 Axes>"
      ]
     },
     "metadata": {},
     "output_type": "display_data"
    }
   ],
   "source": [
    "plt.figure(figsize=(10, 5))\n",
    "sns.countplot(x=df['Sales_Agent'], order=df['Sales_Agent'].value_counts().index, palette=\"magma\")\n",
    "plt.title(\"Leads Assigned per Sales Agent\")\n",
    "plt.xlabel(\"Sales Agent\")\n",
    "plt.ylabel(\"Count\")\n",
    "plt.show()\n"
   ]
  },
  {
   "cell_type": "markdown",
   "id": "010fe0fb",
   "metadata": {},
   "source": [
    "Agent E was handling most of the leads and in the same way Agent B is having less number of leads."
   ]
  },
  {
   "cell_type": "markdown",
   "id": "d994982c",
   "metadata": {},
   "source": [
    "# Data Preprocessing"
   ]
  },
  {
   "cell_type": "markdown",
   "id": "b44dc40f",
   "metadata": {},
   "source": [
    "* We are having missing values in Mobile column,it is not needed for the sales so I will drop Mobile and Email also , both are not needed."
   ]
  },
  {
   "cell_type": "code",
   "execution_count": 16,
   "id": "63fc6fc4",
   "metadata": {},
   "outputs": [],
   "source": [
    "# dropping unnecessary columns\n",
    "df.drop(columns=[\"EMAIL\",\"Mobile\"],inplace=True)"
   ]
  },
  {
   "cell_type": "markdown",
   "id": "c1a13a7a",
   "metadata": {},
   "source": [
    "# Feature Engineering"
   ]
  },
  {
   "cell_type": "code",
   "execution_count": 17,
   "id": "f2c20a1f",
   "metadata": {},
   "outputs": [],
   "source": [
    "# Convert 'Created' to datetime\n",
    "df['Created'] = pd.to_datetime(df['Created'], format=\"%d-%m-%Y %H:%M\", dayfirst=True)\n",
    "\n"
   ]
  },
  {
   "cell_type": "code",
   "execution_count": 18,
   "id": "e608f15a",
   "metadata": {},
   "outputs": [],
   "source": [
    "# Extract useful date features\n",
    "df['Month'] = df['Created'].dt.month\n",
    "df['Day'] = df['Created'].dt.day\n",
    "\n",
    "\n",
    "# drop the original date column\n",
    "df.drop(columns=[\"Created\"],inplace=True)"
   ]
  },
  {
   "cell_type": "markdown",
   "id": "27271175",
   "metadata": {},
   "source": [
    "# Label encoding"
   ]
  },
  {
   "cell_type": "code",
   "execution_count": 19,
   "id": "b53e385b",
   "metadata": {},
   "outputs": [],
   "source": [
    "# Label encode categorical features\n",
    "encoder = LabelEncoder()\n",
    "for col in ['Source', 'Sales_Agent', 'Location', 'Delivery_Mode']:\n",
    "    df[col] = encoder.fit_transform(df[col])\n",
    "\n",
    "# Remove leading/trailing spaces and normalize the case\n",
    "df['Status'] = df['Status'].str.strip().str.title()\n",
    "\n",
    "# Now apply the lambda function\n",
    "df['Status'] = df['Status'].apply(lambda x: 1 if x == 'High Potential' else 0)"
   ]
  },
  {
   "cell_type": "code",
   "execution_count": 20,
   "id": "93e705cc",
   "metadata": {},
   "outputs": [
    {
     "name": "stdout",
     "output_type": "stream",
     "text": [
      "Status\n",
      "0    4404\n",
      "1    3018\n",
      "Name: count, dtype: int64\n"
     ]
    }
   ],
   "source": [
    "print(df['Status'].value_counts())"
   ]
  },
  {
   "cell_type": "code",
   "execution_count": 21,
   "id": "6af6aebc",
   "metadata": {},
   "outputs": [
    {
     "data": {
      "image/png": "[encoded data removed]",
      "text/plain": [
       "<Figure size 1200x600 with 2 Axes>"
      ]
     },
     "metadata": {},
     "output_type": "display_data"
    }
   ],
   "source": [
    "# Compute correlation matrix\n",
    "plt.figure(figsize=(12, 6))\n",
    "sns.heatmap(df.corr(), annot=True, cmap=\"coolwarm\", fmt=\".2f\", linewidths=1)\n",
    "plt.title(\"Feature Correlation Heatmap\")\n",
    "plt.show()\n"
   ]
  },
  {
   "cell_type": "markdown",
   "id": "5c45a050",
   "metadata": {},
   "source": [
    "# Model Creation\n"
   ]
  },
  {
   "cell_type": "code",
   "execution_count": 22,
   "id": "e2569169",
   "metadata": {},
   "outputs": [],
   "source": [
    "# Define features (X) and target (y)\n",
    "x = df.drop(columns=['Status'])\n",
    "y = df['Status']\n",
    "\n",
    "# Split into training (80%) and testing (20%) sets\n",
    "x_train,x_test,y_train,y_test=train_test_split(x,y,test_size=0.2,random_state=42)"
   ]
  },
  {
   "cell_type": "markdown",
   "id": "5a4f2bc8",
   "metadata": {},
   "source": [
    "# Scaling the data"
   ]
  },
  {
   "cell_type": "code",
   "execution_count": 23,
   "id": "9ae2b595",
   "metadata": {},
   "outputs": [],
   "source": [
    "scaler = StandardScaler()\n",
    "x_train_scaled = scaler.fit_transform(x_train)\n",
    "x_test_scaled = scaler.transform(x_test)"
   ]
  },
  {
   "cell_type": "markdown",
   "id": "f1b6c70a",
   "metadata": {},
   "source": [
    "# Logistic Regression"
   ]
  },
  {
   "cell_type": "code",
   "execution_count": 24,
   "id": "9d03a5c2",
   "metadata": {},
   "outputs": [],
   "source": [
    "# Initialize and train the Logistic Regression model\n",
    "logreg = LogisticRegression()\n",
    "logreg.fit(x_train_scaled, y_train)\n",
    "\n",
    "# Make predictions\n",
    "y_pred = logreg.predict(x_test_scaled)"
   ]
  },
  {
   "cell_type": "code",
   "execution_count": 25,
   "id": "f4c7681a",
   "metadata": {},
   "outputs": [
    {
     "name": "stdout",
     "output_type": "stream",
     "text": [
      "Accuracy: 0.5932659932659933\n",
      "Classification report:               precision    recall  f1-score   support\n",
      "\n",
      "           0       0.59      1.00      0.74       881\n",
      "           1       0.00      0.00      0.00       604\n",
      "\n",
      "    accuracy                           0.59      1485\n",
      "   macro avg       0.30      0.50      0.37      1485\n",
      "weighted avg       0.35      0.59      0.44      1485\n",
      "\n"
     ]
    },
    {
     "name": "stderr",
     "output_type": "stream",
     "text": [
      "C:\\Users\\user\\Desktop\\Jup\\Lib\\site-packages\\sklearn\\metrics\\_classification.py:1531: UndefinedMetricWarning: Precision is ill-defined and being set to 0.0 in labels with no predicted samples. Use `zero_division` parameter to control this behavior.\n",
      "  _warn_prf(average, modifier, f\"{metric.capitalize()} is\", len(result))\n",
      "C:\\Users\\user\\Desktop\\Jup\\Lib\\site-packages\\sklearn\\metrics\\_classification.py:1531: UndefinedMetricWarning: Precision is ill-defined and being set to 0.0 in labels with no predicted samples. Use `zero_division` parameter to control this behavior.\n",
      "  _warn_prf(average, modifier, f\"{metric.capitalize()} is\", len(result))\n",
      "C:\\Users\\user\\Desktop\\Jup\\Lib\\site-packages\\sklearn\\metrics\\_classification.py:1531: UndefinedMetricWarning: Precision is ill-defined and being set to 0.0 in labels with no predicted samples. Use `zero_division` parameter to control this behavior.\n",
      "  _warn_prf(average, modifier, f\"{metric.capitalize()} is\", len(result))\n"
     ]
    }
   ],
   "source": [
    "# Evaluate the model\n",
    "accuracy = accuracy_score(y_test, y_pred)\n",
    "print(\"Accuracy:\",accuracy)\n",
    "print(\"Classification report:\",classification_report(y_test,y_pred))"
   ]
  },
  {
   "cell_type": "markdown",
   "id": "85b2295a",
   "metadata": {},
   "source": [
    "# Hyperparameter tuning for Logistics"
   ]
  },
  {
   "cell_type": "code",
   "execution_count": 26,
   "id": "545195d8",
   "metadata": {},
   "outputs": [],
   "source": [
    "# Define the hyperparameter grid\n",
    "param_grid = {\n",
    "    'C': [0.01, 0.1, 1, 10, 100],  # Regularization strength\n",
    "    'solver': ['liblinear', 'newton-cg'],  # Optimization algorithms\n",
    "    'penalty': ['l2'],  # Regularization type\n",
    "    'max_iter': [100, 200, 300]  # Maximum iterations for convergence\n",
    "}"
   ]
  },
  {
   "cell_type": "code",
   "execution_count": 27,
   "id": "a26caad4",
   "metadata": {},
   "outputs": [
    {
     "name": "stdout",
     "output_type": "stream",
     "text": [
      "Fitting 5 folds for each of 30 candidates, totalling 150 fits\n",
      "Best hyperparameters: {'C': 0.01, 'max_iter': 100, 'penalty': 'l2', 'solver': 'liblinear'}\n"
     ]
    }
   ],
   "source": [
    "# Apply GridSearchCV with 5-fold cross-validation\n",
    "grid_search = GridSearchCV(estimator=logreg, param_grid=param_grid, cv=5, n_jobs=-1, verbose=1)\n",
    "grid_search.fit(x_train_scaled, y_train)\n",
    "\n",
    "# Get the best parameters from GridSearchCV\n",
    "best_params = grid_search.best_params_\n",
    "print(f'Best hyperparameters: {best_params}')"
   ]
  },
  {
   "cell_type": "code",
   "execution_count": 28,
   "id": "64b75623",
   "metadata": {},
   "outputs": [],
   "source": [
    "# Evaluate the model with the best parameters\n",
    "best_log_reg = grid_search.best_estimator_\n",
    "y_pred_lr = best_log_reg.predict(x_test_scaled)"
   ]
  },
  {
   "cell_type": "code",
   "execution_count": 29,
   "id": "b849034a",
   "metadata": {},
   "outputs": [
    {
     "name": "stdout",
     "output_type": "stream",
     "text": [
      "Accuracy: 0.5932659932659933\n",
      "Classification report:               precision    recall  f1-score   support\n",
      "\n",
      "           0       0.59      1.00      0.74       881\n",
      "           1       0.00      0.00      0.00       604\n",
      "\n",
      "    accuracy                           0.59      1485\n",
      "   macro avg       0.30      0.50      0.37      1485\n",
      "weighted avg       0.35      0.59      0.44      1485\n",
      "\n"
     ]
    },
    {
     "name": "stderr",
     "output_type": "stream",
     "text": [
      "C:\\Users\\user\\Desktop\\Jup\\Lib\\site-packages\\sklearn\\metrics\\_classification.py:1531: UndefinedMetricWarning: Precision is ill-defined and being set to 0.0 in labels with no predicted samples. Use `zero_division` parameter to control this behavior.\n",
      "  _warn_prf(average, modifier, f\"{metric.capitalize()} is\", len(result))\n",
      "C:\\Users\\user\\Desktop\\Jup\\Lib\\site-packages\\sklearn\\metrics\\_classification.py:1531: UndefinedMetricWarning: Precision is ill-defined and being set to 0.0 in labels with no predicted samples. Use `zero_division` parameter to control this behavior.\n",
      "  _warn_prf(average, modifier, f\"{metric.capitalize()} is\", len(result))\n",
      "C:\\Users\\user\\Desktop\\Jup\\Lib\\site-packages\\sklearn\\metrics\\_classification.py:1531: UndefinedMetricWarning: Precision is ill-defined and being set to 0.0 in labels with no predicted samples. Use `zero_division` parameter to control this behavior.\n",
      "  _warn_prf(average, modifier, f\"{metric.capitalize()} is\", len(result))\n"
     ]
    }
   ],
   "source": [
    "# Evaluate the model\n",
    "accuracy = accuracy_score(y_test, y_pred)\n",
    "print(\"Accuracy:\",accuracy)\n",
    "print(\"Classification report:\",classification_report(y_test,y_pred))"
   ]
  },
  {
   "cell_type": "markdown",
   "id": "ce4b30f4",
   "metadata": {},
   "source": [
    "After tuning the model also, it is giving same accuracy so will move on to another model"
   ]
  },
  {
   "cell_type": "markdown",
   "id": "fb89082b",
   "metadata": {},
   "source": [
    "# XGBClassifier"
   ]
  },
  {
   "cell_type": "code",
   "execution_count": 30,
   "id": "942c365c",
   "metadata": {},
   "outputs": [],
   "source": [
    "# Initialize XGBoost model\n",
    "xgb_model = XGBClassifier(n_estimators=100, learning_rate=0.1, max_depth=5, random_state=42)\n",
    "\n",
    "# Train the model\n",
    "xgb_model.fit(x_train_scaled,y_train)\n",
    "\n",
    "# Make predictions\n",
    "y_pred = xgb_model.predict(x_test_scaled)\n"
   ]
  },
  {
   "cell_type": "code",
   "execution_count": 31,
   "id": "654850bf",
   "metadata": {},
   "outputs": [
    {
     "name": "stdout",
     "output_type": "stream",
     "text": [
      "Model Accuracy: 0.58\n",
      "Classification Report:\n",
      "               precision    recall  f1-score   support\n",
      "\n",
      "           0       0.60      0.86      0.71       881\n",
      "           1       0.44      0.16      0.23       604\n",
      "\n",
      "    accuracy                           0.58      1485\n",
      "   macro avg       0.52      0.51      0.47      1485\n",
      "weighted avg       0.53      0.58      0.51      1485\n",
      "\n"
     ]
    }
   ],
   "source": [
    "# Accuracy Score\n",
    "acc_xgb=accuracy_score(y_test, y_pred)\n",
    "print(f\"Model Accuracy: {accuracy_score(y_test, y_pred):.2f}\")\n",
    "\n",
    "# Classification Report\n",
    "print(\"Classification Report:\\n\", classification_report(y_test, y_pred))\n"
   ]
  },
  {
   "cell_type": "markdown",
   "id": "92176174",
   "metadata": {},
   "source": [
    "# Tuning XGBoost"
   ]
  },
  {
   "cell_type": "code",
   "execution_count": 32,
   "id": "bd78b31c",
   "metadata": {},
   "outputs": [],
   "source": [
    "# Define the hyperparameter grid\n",
    "param_grid = {\n",
    "    'learning_rate': [0.01, 0.1, 0.2, 0.3],  # Step size shrinking\n",
    "    'n_estimators': [100, 200, 300],  # Number of boosting rounds\n",
    "    'max_depth': [3, 5, 7]\n",
    "}"
   ]
  },
  {
   "cell_type": "code",
   "execution_count": 33,
   "id": "48109df9",
   "metadata": {},
   "outputs": [
    {
     "name": "stdout",
     "output_type": "stream",
     "text": [
      "Fitting 5 folds for each of 36 candidates, totalling 180 fits\n",
      "Best hyperparameters: {'learning_rate': 0.01, 'max_depth': 7, 'n_estimators': 100}\n"
     ]
    }
   ],
   "source": [
    "# Apply GridSearchCV with 5-fold cross-validation\n",
    "grid_search = GridSearchCV(estimator=xgb_model, param_grid=param_grid, cv=5, n_jobs=-1, verbose=1)\n",
    "grid_search.fit(x_train_scaled, y_train)\n",
    "\n",
    "# Get the best parameters from GridSearchCV\n",
    "best_params = grid_search.best_params_\n",
    "print(f'Best hyperparameters: {best_params}')"
   ]
  },
  {
   "cell_type": "code",
   "execution_count": 34,
   "id": "b4785179",
   "metadata": {},
   "outputs": [
    {
     "name": "stdout",
     "output_type": "stream",
     "text": [
      "0.5757575757575758\n"
     ]
    }
   ],
   "source": [
    "# Evaluate the model with the best parameters\n",
    "best_xgb = grid_search.best_estimator_\n",
    "y_pred_xgb = best_xgb.predict(x_test_scaled)\n",
    "\n",
    "# Evaluate accuracy and other metrics\n",
    "accuracy = accuracy_score(y_test, y_pred)\n",
    "print(accuracy)"
   ]
  },
  {
   "cell_type": "markdown",
   "id": "eeddcf85",
   "metadata": {},
   "source": [
    "It is also giving same accuracy , so I will use another model"
   ]
  },
  {
   "cell_type": "markdown",
   "id": "471315ed",
   "metadata": {},
   "source": [
    "# Random Forest "
   ]
  },
  {
   "cell_type": "code",
   "execution_count": 35,
   "id": "7519a043",
   "metadata": {},
   "outputs": [],
   "source": [
    "# Define the Random Forest model\n",
    "rf_model = RandomForestClassifier(random_state=42)\n",
    "\n",
    "# Fit the model\n",
    "rf_model.fit(x_train_scaled, y_train)\n",
    "\n",
    "# Predict on the test set\n",
    "y_pred_rf = rf_model.predict(x_test_scaled)\n",
    "\n",
    "# Evaluate the model\n",
    "accuracy_rf = accuracy_score(y_test, y_pred_rf)\n",
    "class_report_rf = classification_report(y_test, y_pred_rf)"
   ]
  },
  {
   "cell_type": "code",
   "execution_count": 36,
   "id": "85a998eb",
   "metadata": {},
   "outputs": [
    {
     "name": "stdout",
     "output_type": "stream",
     "text": [
      "Accuracy: 0.5548821548821549\n",
      "Classification Report:               precision    recall  f1-score   support\n",
      "\n",
      "           0       0.60      0.77      0.67       881\n",
      "           1       0.42      0.24      0.30       604\n",
      "\n",
      "    accuracy                           0.55      1485\n",
      "   macro avg       0.51      0.50      0.49      1485\n",
      "weighted avg       0.52      0.55      0.52      1485\n",
      "\n"
     ]
    }
   ],
   "source": [
    "print(\"Accuracy:\",accuracy_rf)\n",
    "print(\"Classification Report:\",class_report_rf)"
   ]
  },
  {
   "cell_type": "markdown",
   "id": "4e2dd6f1",
   "metadata": {},
   "source": [
    "* XGBoost and Logistic Regression are providing similar results, I would suggest trying XGBoost due to its higher potential for    capturing complex relationships in the data, especially if you're dealing with a larger or more complex dataset \n",
    "* So I will try precision and recall for all the models "
   ]
  },
  {
   "cell_type": "code",
   "execution_count": 37,
   "id": "05e2eb47",
   "metadata": {},
   "outputs": [],
   "source": [
    "# Evaluate Precision, Recall, and F1-Score for each model\n",
    "def evaluate_model(y_true, y_pred):\n",
    "    precision = precision_score(y_true, y_pred)\n",
    "    recall = recall_score(y_true, y_pred)\n",
    "    f1 = f1_score(y_true, y_pred)\n",
    "    return precision, recall, f1"
   ]
  },
  {
   "cell_type": "code",
   "execution_count": 38,
   "id": "f74a218a",
   "metadata": {},
   "outputs": [
    {
     "name": "stdout",
     "output_type": "stream",
     "text": [
      "Logistic Regression - Precision: 0.0, Recall: 0.0, F1-Score: 0.0\n",
      "XGBoost - Precision: 0.5, Recall: 0.03145695364238411, F1-Score: 0.059190031152647975\n",
      "Random Forest - Precision: 0.41642228739002934, Recall: 0.23509933774834438, F1-Score: 0.30052910052910053\n"
     ]
    },
    {
     "name": "stderr",
     "output_type": "stream",
     "text": [
      "C:\\Users\\user\\Desktop\\Jup\\Lib\\site-packages\\sklearn\\metrics\\_classification.py:1531: UndefinedMetricWarning: Precision is ill-defined and being set to 0.0 due to no predicted samples. Use `zero_division` parameter to control this behavior.\n",
      "  _warn_prf(average, modifier, f\"{metric.capitalize()} is\", len(result))\n"
     ]
    }
   ],
   "source": [
    "# Logistic Regression\n",
    "precision_lr, recall_lr, f1_lr = evaluate_model(y_test, y_pred_lr)\n",
    "\n",
    "# XGBoost\n",
    "precision_xgb, recall_xgb, f1_xgb = evaluate_model(y_test, y_pred_xgb)\n",
    "\n",
    "# Random Forest\n",
    "precision_rf, recall_rf, f1_rf = evaluate_model(y_test, y_pred_rf)\n",
    "\n",
    "# Output results\n",
    "print(f'Logistic Regression - Precision: {precision_lr}, Recall: {recall_lr}, F1-Score: {f1_lr}')\n",
    "print(f'XGBoost - Precision: {precision_xgb}, Recall: {recall_xgb}, F1-Score: {f1_xgb}')\n",
    "print(f'Random Forest - Precision: {precision_rf}, Recall: {recall_rf}, F1-Score: {f1_rf}')"
   ]
  },
  {
   "cell_type": "markdown",
   "id": "b2e7424d",
   "metadata": {},
   "source": [
    "# Balancing the data"
   ]
  },
  {
   "cell_type": "code",
   "execution_count": 39,
   "id": "c399397c",
   "metadata": {},
   "outputs": [],
   "source": [
    "# Apply SMOTE to balance the dataset\n",
    "smote = SMOTE(random_state=42)\n",
    "x_train_resampled, y_train_resampled = smote.fit_resample(x_train_scaled, y_train)"
   ]
  },
  {
   "cell_type": "markdown",
   "id": "09b96a6e",
   "metadata": {},
   "source": [
    "# After Balancing the data train the models"
   ]
  },
  {
   "cell_type": "code",
   "execution_count": 40,
   "id": "9fbeb5c3",
   "metadata": {},
   "outputs": [],
   "source": [
    "# Initialize models\n",
    "log_reg = LogisticRegression()\n",
    "xgb = XGBClassifier(use_label_encoder=False, eval_metric='logloss')\n",
    "rf = RandomForestClassifier()\n",
    "\n",
    "# Train models on resampled data\n",
    "log_reg.fit(x_train_resampled, y_train_resampled)\n",
    "xgb.fit(x_train_resampled, y_train_resampled)\n",
    "rf.fit(x_train_resampled, y_train_resampled)\n",
    "\n",
    "# Predictions on test set\n",
    "y_pred_lr = log_reg.predict(x_test_scaled)\n",
    "y_pred_xgb = xgb.predict(x_test_scaled)\n",
    "y_pred_rf = rf.predict(x_test_scaled)"
   ]
  },
  {
   "cell_type": "code",
   "execution_count": 41,
   "id": "4d610492",
   "metadata": {},
   "outputs": [
    {
     "name": "stdout",
     "output_type": "stream",
     "text": [
      "Logistic Regression - Precision: 0.40382165605095544 Recall: 0.5248344370860927 F1-Score: 0.4564434845212383 \n",
      "\n",
      "\n",
      "XGBoost - Precision: 0.42105263157894735 Recall: 0.3443708609271523  F1-Score: 0.3788706739526412 \n",
      "\n",
      "\n",
      "Random Forest - Precision: 0.4 Recall: 0.28807947019867547 F1-Score: {0.33493743984600577}\n"
     ]
    }
   ],
   "source": [
    "# Function to evaluate models\n",
    "def evaluate_model(y_true, y_pred):\n",
    "    precision = precision_score(y_true, y_pred)\n",
    "    recall = recall_score(y_true, y_pred)\n",
    "    f1 = f1_score(y_true, y_pred)\n",
    "    return precision, recall, f1\n",
    "\n",
    "# Evaluate models after SMOTE\n",
    "precision_lr, recall_lr, f1_lr = evaluate_model(y_test, y_pred_lr)\n",
    "precision_xgb, recall_xgb, f1_xgb = evaluate_model(y_test, y_pred_xgb)\n",
    "precision_rf, recall_rf, f1_rf = evaluate_model(y_test, y_pred_rf)\n",
    "\n",
    "# Print results\n",
    "print(\"Logistic Regression - Precision:\",precision_lr, \"Recall:\",recall_lr, \"F1-Score:\", f1_lr,\"\\n\\n\")\n",
    "print(\"XGBoost - Precision:\",precision_xgb, \"Recall:\",recall_xgb,\" F1-Score:\",f1_xgb,\"\\n\\n\")\n",
    "print(\"Random Forest - Precision:\",precision_rf, \"Recall:\",recall_rf, \"F1-Score:\", {f1_rf})"
   ]
  },
  {
   "cell_type": "markdown",
   "id": "dd326218",
   "metadata": {},
   "source": [
    "# Final Model Selection"
   ]
  },
  {
   "cell_type": "markdown",
   "id": "e80dd465",
   "metadata": {},
   "source": [
    "\n",
    "     Among the models tested, Logistic Regression performs the best. It has the highest Recall (0.52) and F1-Score (0.45), meaning it correctly identifies more \"High Potential\" candidates while maintaining a good balance between Precision and Recall."
   ]
  },
  {
   "cell_type": "markdown",
   "id": "48a15cab",
   "metadata": {},
   "source": [
    "      XGBoost has slightly better Precision (0.42) but lower Recall (0.34), making it less effective in capturing high-potential cases. Random Forest has the lowest Recall (0.32) and F1-Score (0.36), making it the weakest choice."
   ]
  },
  {
   "cell_type": "markdown",
   "id": "a0622ed6",
   "metadata": {},
   "source": [
    "      Since Recall is the most important metric for identifying high-potential cases, Logistic Regression is the best model"
   ]
  },
  {
   "cell_type": "markdown",
   "id": "e52eb5e1",
   "metadata": {},
   "source": [
    "# Final Predictions"
   ]
  },
  {
   "cell_type": "code",
   "execution_count": 42,
   "id": "f706cf32",
   "metadata": {},
   "outputs": [
    {
     "name": "stdout",
     "output_type": "stream",
     "text": [
      "      Actual  Predicted  Predicted_Probability\n",
      "1175       1          0               0.007277\n",
      "2805       0          0               0.006614\n",
      "101        0          0               0.007080\n",
      "5080       1          0               0.006284\n",
      "6471       0          0               0.006055\n"
     ]
    },
    {
     "name": "stderr",
     "output_type": "stream",
     "text": [
      "C:\\Users\\user\\Desktop\\Jup\\Lib\\site-packages\\sklearn\\base.py:486: UserWarning: X has feature names, but LogisticRegression was fitted without feature names\n",
      "  warnings.warn(\n",
      "C:\\Users\\user\\Desktop\\Jup\\Lib\\site-packages\\sklearn\\base.py:486: UserWarning: X has feature names, but LogisticRegression was fitted without feature names\n",
      "  warnings.warn(\n"
     ]
    }
   ],
   "source": [
    "# Make predictions using Logistic Regression\n",
    "y_pred_lr = logreg.predict(x_test)\n",
    "\n",
    "# Get probabilities (if needed for class 1 - \"High Potential\")\n",
    "y_pred_proba_lr = logreg.predict_proba(x_test)[:, 1]\n",
    "\n",
    "# Create a DataFrame with predictions\n",
    "predictions_df = pd.DataFrame({\n",
    "    'Actual': y_test,\n",
    "    'Predicted': y_pred_lr,\n",
    "    'Predicted_Probability': y_pred_proba_lr\n",
    "})\n",
    "\n",
    "# Display the DataFrame\n",
    "print(predictions_df.head())\n"
   ]
  },
  {
   "cell_type": "code",
   "execution_count": null,
   "id": "4ac2b883",
   "metadata": {},
   "outputs": [],
   "source": [
    "\n",
    "\n"
   ]
  }
 ],
 "metadata": {
  "kernelspec": {
   "display_name": "Python 3 (ipykernel)",
   "language": "python",
   "name": "python3"
  },
  "language_info": {
   "codemirror_mode": {
    "name": "ipython",
    "version": 3
   },
   "file_extension": ".py",
   "mimetype": "text/x-python",
   "name": "python",
   "nbconvert_exporter": "python",
   "pygments_lexer": "ipython3",
   "version": "3.11.5"
  }
 },
 "nbformat": 4,
 "nbformat_minor": 5
}
